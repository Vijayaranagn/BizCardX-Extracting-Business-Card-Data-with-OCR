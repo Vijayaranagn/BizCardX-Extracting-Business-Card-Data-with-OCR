{
  "cells": [
    {
      "cell_type": "code",
      "execution_count": null,
      "metadata": {
        "id": "dc0g-F3RLBb1"
      },
      "outputs": [],
      "source": [
        "!pip install opencv-python\n",
        "!pip install pytesseract\n",
        "!pip install easyocr\n",
        "!pip install streamlit\n",
        "!pip install pyngrok"
      ]
    },
    {
      "cell_type": "code",
      "execution_count": 30,
      "metadata": {
        "colab": {
          "base_uri": "https://localhost:8080/"
        },
        "id": "rCQ0c9dUEHL4",
        "outputId": "57be387f-b2ff-4c0f-d226-912d6acb1720"
      },
      "outputs": [
        {
          "output_type": "stream",
          "name": "stdout",
          "text": [
            "/bin/bash: ./ngrok: No such file or directory\n"
          ]
        }
      ],
      "source": [
        "!./ngrok authtokens 2Lb7nKJVe0k542wdclYWapnyfux_4nJurZjAiNAWGPRshYfda"
      ]
    },
    {
      "cell_type": "code",
      "execution_count": 31,
      "metadata": {
        "id": "wJ4tCrb-K2F8"
      },
      "outputs": [],
      "source": [
        "# For accessing app via link\n",
        "from pyngrok import ngrok \n",
        "public_p_url = ngrok.connect(port='8501')"
      ]
    },
    {
      "cell_type": "code",
      "execution_count": 32,
      "metadata": {
        "colab": {
          "base_uri": "https://localhost:8080/"
        },
        "id": "pxD-cw0jK6Xb",
        "outputId": "145b8b8c-45d3-4363-fefd-e8807b6a7623"
      },
      "outputs": [
        {
          "output_type": "stream",
          "name": "stdout",
          "text": [
            "Overwriting streamlit_app.py\n"
          ]
        }
      ],
      "source": [
        "%%writefile streamlit_app.py\n",
        "\n",
        "import streamlit as st\n",
        "import easyocr\n",
        "import sqlite3\n",
        "import cv2\n",
        "import numpy as np \n",
        "import pandas as pd\n",
        "\n",
        "\n",
        "# Connect to sqlite3 database\n",
        "conn = sqlite3.connect('card_info.db')\n",
        "c = conn.cursor()\n",
        "\n",
        "\n",
        "# Create a table to store the business card information\n",
        "c.execute('''CREATE TABLE IF NOT EXISTS Business_card \n",
        "              (id INT AUTO_INCREMENT PRIMARY KEY,\n",
        "              name TEXT,\n",
        "              position TEXT,\n",
        "              address TEXT,\n",
        "              pincode VARCHAR(25),\n",
        "              phone VARCHAR(25),\n",
        "              email TEXT,\n",
        "              website TEXT,\n",
        "              company TEXT\n",
        "              )''')\n",
        "\n",
        "# Using easyOCR for reading data\n",
        "reader = easyocr.Reader(['en'])\n",
        "\n",
        "# Set the title and page icon\n",
        "st.set_page_config(page_title=\"BIZCARDX\", page_icon=\":card_index:\")\n",
        "\n",
        "# Title \n",
        "st.title(\":blue[Extracting Business Card Data with OCR:card_index_dividers:]\")\n",
        "\n",
        "# Create a file uploader\n",
        "file_upload = st.file_uploader(\":red[UPLOAD CARD IMAGE>>>:credit_card:]\", type=[\"jpg\", \"jpeg\", \"png\", \"tiff\", \"tif\", \"gif\"])\n",
        "\n",
        "\n",
        "# Create a sidebar menu with options to Add, Show, Update business card information\n",
        "st.sidebar.title(\":purple[Bizcardx:card_file_box:]\")\n",
        "st.sidebar.image(\"https://miro.medium.com/v2/resize:fit:1400/0*V7NS3dvYQLVi6DFL.gif\", width=400)\n",
        "\n",
        "\n",
        "m = ['Insert Data', 'Show Data', 'Edit Card Info', \"Delete Data\"]\n",
        "choose = st.sidebar.selectbox(\"Select An Option\", m)\n",
        "\n",
        "if choose == 'Insert Data':\n",
        "    if file_upload is not None:\n",
        "        \n",
        "        # Read the image using OpenCV\n",
        "        image = cv2.imdecode(np.fromstring(file_upload.read(), np.uint8), 1)\n",
        "        \n",
        "        # Display the uploaded image\n",
        "        st.image(image, caption='Uploaded Successfully', use_column_width=True)\n",
        "        \n",
        "        # Button to extract information from the image\n",
        "        if st.button('Extract Data And Added'):\n",
        "            bsc = reader.readtext(image, detail=0)\n",
        "            text = \"\\n\".join(bsc)\n",
        "            \n",
        "            # Insert the extracted information and image into the database\n",
        "            sql_data = \"INSERT INTO Business_card (name, position, address, pincode, phone, email, website, company) VALUES ( ?, ?, ?, ?, ?, ?, ?, ?)\"\n",
        "            values = (bsc[0], bsc[1], bsc[2], bsc[3], bsc[4], bsc[5], bsc[6], bsc[7])\n",
        "            c.execute(sql_data, values)\n",
        "            conn.commit()\n",
        "            \n",
        "            # Display message\n",
        "            st.success(\"Data Inserted\")\n",
        "\n",
        "elif choose == 'Show Data':\n",
        "    \n",
        "    # Display the stored business card information\n",
        "    c.execute(\"SELECT * FROM Business_card\")\n",
        "    result = c.fetchall()\n",
        "    df = pd.DataFrame(result, columns=['id','name', 'position', 'address', 'pincode', 'phone', 'email', 'website', 'company'])\n",
        "    st.write(df)\n",
        "\n",
        "\n",
        "elif choose == 'Edit Card Info':\n",
        "    \n",
        "    # Create a dropdown menu to select a business card to edit\n",
        "    c.execute(\"SELECT id, name FROM Business_card\")\n",
        "    result = c.fetchall()\n",
        "    business_cards = {}\n",
        "    \n",
        "    for row in result:\n",
        "        business_cards[row[1]] = row[0]\n",
        "    select_card_name = st.selectbox(\"Select Card To Edit\", list(business_cards.keys()))\n",
        "    \n",
        "    # Get the current information for the selected business card\n",
        "    c.execute(\"SELECT * FROM Business_card WHERE name=?\", (select_card_name,))\n",
        "    result = c.fetchone()\n",
        "\n",
        "    # Get edited information \n",
        "    name = st.text_input(\"Name\", result[1])\n",
        "    position = st.text_input(\"Position\", result[2])\n",
        "    address = st.text_input(\"Address\", result[3])\n",
        "    pincode = st.text_input(\"Pincode\", result[4])\n",
        "    phone = st.text_input(\"Phone\", result[5])\n",
        "    email = st.text_input(\"Email\", result[6])\n",
        "    website = st.text_input(\"Website\", result[7])\n",
        "    company = st.text_input(\"Company_Name\", result[8])\n",
        "\n",
        "    \n",
        "    # Create a button to update the business card\n",
        "    if st.button(\"Edit Card Data\"):\n",
        "        \n",
        "        # Update the information for the selected business card in the database\n",
        "        c.execute(\"UPDATE Business_card SET name=?, position=?, address=?, pincode=?, phone=?, email=?, website=?, company=? WHERE name=?\", \n",
        "                             (name, position, address, pincode, phone, email, website, company, select_card_name))\n",
        "        conn.commit()\n",
        "        st.success(\"Card Data Updated\")\n",
        "\n",
        "if choose == 'Delete Data':\n",
        "    \n",
        "    # Create a dropdown menu to select a business card to delete\n",
        "    c.execute(\"SELECT id, name FROM Business_card\")\n",
        "    result = c.fetchall()\n",
        "    business_cards = {}\n",
        "    \n",
        "    for row in result:\n",
        "        business_cards[row[1]] = row[0]\n",
        "    select_card_name = st.selectbox(\"Select Card To Delete\", list(business_cards.keys()))\n",
        "    \n",
        "    # Create a button to delete the selected business card\n",
        "    if st.button(\"Delete Card\"):\n",
        "        \n",
        "        # Delete the selected business card from the database\n",
        "        c.execute(\"DELETE FROM Business_card WHERE name=?\", (select_card_name,))\n",
        "        conn.commit()\n",
        "        st.success(\"Card Data Deleted\")\n"
      ]
    },
    {
      "cell_type": "code",
      "execution_count": null,
      "metadata": {
        "id": "-mxwAlH2K-_j"
      },
      "outputs": [],
      "source": [
        "!streamlit run /content/streamlit_app.py & npx localtunnel -p 8501"
      ]
    },
    {
      "cell_type": "code",
      "source": [],
      "metadata": {
        "id": "Bl-CQd1b9SJu"
      },
      "execution_count": null,
      "outputs": []
    }
  ],
  "metadata": {
    "colab": {
      "provenance": [],
      "authorship_tag": "ABX9TyN8/wQvKBfxBA7Qd7R/y4MP"
    },
    "kernelspec": {
      "display_name": "Python 3",
      "name": "python3"
    },
    "language_info": {
      "name": "python"
    }
  },
  "nbformat": 4,
  "nbformat_minor": 0
}